{
 "cells": [
  {
   "cell_type": "code",
   "execution_count": 1,
   "id": "9c51c1b4-10df-4ccf-bbe3-9ec1a759d4d3",
   "metadata": {},
   "outputs": [],
   "source": [
    "import cv2\n",
    "import numpy as np\n",
    "import matplotlib.pyplot as plt\n",
    "%matplotlib inline"
   ]
  },
  {
   "cell_type": "code",
   "execution_count": 2,
   "id": "2da38634-9cb3-4062-b218-a8864b9d2ab2",
   "metadata": {},
   "outputs": [],
   "source": [
    "road = cv2.imread(r\"C:\\Users\\umut3\\Desktop\\AI\\ML\\ML_Udemy\\Computer-Vision-with-Python\\Computer-Vision-with-Python\\DATA\\road_image.jpg\")\n",
    "road_copy = np.copy(road)"
   ]
  },
  {
   "cell_type": "code",
   "execution_count": 3,
   "id": "b7154a34-518f-445e-83a5-61a14aab4327",
   "metadata": {},
   "outputs": [
    {
     "data": {
      "text/plain": [
       "(600, 800)"
      ]
     },
     "execution_count": 3,
     "metadata": {},
     "output_type": "execute_result"
    }
   ],
   "source": [
    "road.shape[:2]"
   ]
  },
  {
   "cell_type": "code",
   "execution_count": 4,
   "id": "862deff5-557c-4f86-aa41-0cefb4f40822",
   "metadata": {},
   "outputs": [],
   "source": [
    "marker_image = np.zeros(road.shape[:2], dtype=np.int32);"
   ]
  },
  {
   "cell_type": "code",
   "execution_count": 5,
   "id": "6a5682ce-f16d-4b99-ae34-4185c71a1917",
   "metadata": {},
   "outputs": [],
   "source": [
    "segments = np.zeros(road.shape, dtype=np.uint8);"
   ]
  },
  {
   "cell_type": "code",
   "execution_count": 6,
   "id": "7e26e861-9935-4c50-8c64-93a8fdf4a161",
   "metadata": {},
   "outputs": [],
   "source": [
    "from matplotlib import cm"
   ]
  },
  {
   "cell_type": "code",
   "execution_count": 7,
   "id": "28c6ec52-6e60-431c-991e-11001180e049",
   "metadata": {},
   "outputs": [
    {
     "data": {
      "text/plain": [
       "(0.12156862745098039, 0.4666666666666667, 0.7058823529411765, 1.0)"
      ]
     },
     "execution_count": 7,
     "metadata": {},
     "output_type": "execute_result"
    }
   ],
   "source": [
    "cm.tab10(0)"
   ]
  },
  {
   "cell_type": "code",
   "execution_count": 8,
   "id": "b97702c2-96b6-43e9-a13b-9a7498045b94",
   "metadata": {},
   "outputs": [],
   "source": [
    "def create_rgb(i):\n",
    "    return tuple(np.array(cm.tab10(i)[:3])*255)"
   ]
  },
  {
   "cell_type": "code",
   "execution_count": 9,
   "id": "e5610a32-6d68-48f7-b9e8-cf0fee016953",
   "metadata": {},
   "outputs": [],
   "source": [
    "colors = []\n",
    "for i in range(10):\n",
    "    colors.append(create_rgb(i))"
   ]
  },
  {
   "cell_type": "code",
   "execution_count": 10,
   "id": "a010d787-00de-4744-ade8-bd7567a14f64",
   "metadata": {},
   "outputs": [
    {
     "data": {
      "text/plain": [
       "[(31.0, 119.0, 180.0),\n",
       " (255.0, 127.0, 14.0),\n",
       " (44.0, 160.0, 44.0),\n",
       " (214.0, 39.0, 40.0),\n",
       " (148.0, 103.0, 189.0),\n",
       " (140.0, 86.0, 75.0),\n",
       " (227.0, 119.0, 194.0),\n",
       " (127.0, 127.0, 127.0),\n",
       " (188.0, 189.0, 34.0),\n",
       " (23.0, 190.0, 207.0)]"
      ]
     },
     "execution_count": 10,
     "metadata": {},
     "output_type": "execute_result"
    }
   ],
   "source": [
    "colors"
   ]
  },
  {
   "cell_type": "code",
   "execution_count": 11,
   "id": "0e83bda3-7a84-4fa7-84a2-9655c0b90db4",
   "metadata": {},
   "outputs": [],
   "source": [
    "###\n",
    "# Global Variables\n",
    "# Color Choice\n",
    "n_markers = 10\n",
    "current_marker = 1\n",
    "# Markers Updeted by Watershed\n",
    "marks_updated = False"
   ]
  },
  {
   "cell_type": "code",
   "execution_count": 12,
   "id": "b930f33b-cec5-4bb0-9e70-5d7fa2e431fa",
   "metadata": {},
   "outputs": [],
   "source": [
    "# CallBack Function\n",
    "\n",
    "def mouse_callback(event, x, y, flags, param):\n",
    "    global marks_updated\n",
    "\n",
    "    if event == cv2.EVENT_LBUTTONDOWN:\n",
    "        # Markers Passed To The Watershed Algorithm\n",
    "        cv2.circle(marker_image, (x,y), 10, (current_marker), -1)\n",
    "\n",
    "        # User Sees On The Road Image\n",
    "        cv2.circle(road_copy,(x,y), 10, colors[current_marker], -1)\n",
    "\n",
    "        marks_updated = True"
   ]
  },
  {
   "cell_type": "code",
   "execution_count": null,
   "id": "de294e42-d0c2-405b-a7e8-79e877b2dec6",
   "metadata": {},
   "outputs": [],
   "source": [
    "# While True\n",
    "cv2.namedWindow('Road_Image')\n",
    "cv2.setMouseCallback('Road_Image', mouse_callback)\n",
    "\n",
    "while True:\n",
    "    cv2.imshow('Watershed Segment', segments)\n",
    "    cv2.imshow('Road_Image', road_copy)\n",
    "\n",
    "    # Close All Windows\n",
    "\n",
    "    k = cv2.waitKey(1)\n",
    "\n",
    "    if k == 27:\n",
    "        break\n",
    "\n",
    "    # Clearing All The Colors Press C Key\n",
    "    elif k == ord('c'):\n",
    "        road_copy = road.copy()\n",
    "        marker_image = np.zeros(road.shape[:2], dtype=np.int32)\n",
    "        segments = np.zeros(road.shape, dtype=np.int8)\n",
    "\n",
    "    # Update Color Choice\n",
    "    elif k > 0 and chr(k).isdigit():\n",
    "        current_marker = int(chr(k))\n",
    "\n",
    "    # Update The Markings\n",
    "    if marks_updated:\n",
    "\n",
    "        marker_image_copy = marker_image.copy()\n",
    "        cv2.watershed(road, marker_image_copy)\n",
    "\n",
    "        segments = np.zeros(road.shape, dtype=np.uint8)\n",
    "\n",
    "        for color_ind in range(n_markers):\n",
    "            # Coloring Segments, Numpy Call\n",
    "            segments[marker_image_copy==(color_ind)] = colors[color_ind]\n",
    "\n",
    "cv2.destroyAllWindows()\n"
   ]
  }
 ],
 "metadata": {
  "kernelspec": {
   "display_name": "Python 3 (ipykernel)",
   "language": "python",
   "name": "python3"
  },
  "language_info": {
   "codemirror_mode": {
    "name": "ipython",
    "version": 3
   },
   "file_extension": ".py",
   "mimetype": "text/x-python",
   "name": "python",
   "nbconvert_exporter": "python",
   "pygments_lexer": "ipython3",
   "version": "3.11.5"
  }
 },
 "nbformat": 4,
 "nbformat_minor": 5
}
